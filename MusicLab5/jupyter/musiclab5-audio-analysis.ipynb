{
 "cells": [
  {
   "cell_type": "markdown",
   "metadata": {},
   "source": [
    "# Sound analysis of MusicLab 5"
   ]
  },
  {
   "cell_type": "code",
   "execution_count": 1,
   "metadata": {},
   "outputs": [],
   "source": [
    "from __future__ import print_function\n",
    "import numpy as np\n",
    "import matplotlib\n",
    "import matplotlib.pyplot as plt\n",
    "import IPython.display as ipd\n",
    "\n",
    "import librosa\n",
    "import librosa.display\n",
    "\n",
    "import matplotlib as mpl\n",
    "# This is to fix an overflow problem\n",
    "mpl.rcParams['agg.path.chunksize'] = 10000"
   ]
  },
  {
   "cell_type": "code",
   "execution_count": 2,
   "metadata": {},
   "outputs": [],
   "source": [
    "%matplotlib inline"
   ]
  },
  {
   "cell_type": "code",
   "execution_count": 3,
   "metadata": {},
   "outputs": [],
   "source": [
    "matplotlib.rcParams['agg.path.chunksize'] = 10000 #this is to avoid cell block limits"
   ]
  },
  {
   "cell_type": "markdown",
   "metadata": {},
   "source": [
    "## Import audio files"
   ]
  },
  {
   "cell_type": "markdown",
   "metadata": {},
   "source": [
    "If you have enough memory, you may be able to load both files at once. If not, load one at a time and only run the relevant analyses parts below. "
   ]
  },
  {
   "cell_type": "code",
   "execution_count": null,
   "metadata": {},
   "outputs": [],
   "source": [
    "a, sr = librosa.load('Khoparzi-Audio.wav')"
   ]
  },
  {
   "cell_type": "code",
   "execution_count": 3,
   "metadata": {},
   "outputs": [],
   "source": [
    "b, sr = librosa.load('Renick_Bell.wav')"
   ]
  },
  {
   "cell_type": "markdown",
   "metadata": {},
   "source": [
    "If you get into memory problems, you can either reduce the sampling rate (sr) or duration (or both)."
   ]
  },
  {
   "cell_type": "code",
   "execution_count": 4,
   "metadata": {},
   "outputs": [],
   "source": [
    "a, sr = librosa.load('Khoparzi-Audio.wav', sr=11025, duration=60)"
   ]
  },
  {
   "cell_type": "code",
   "execution_count": null,
   "metadata": {},
   "outputs": [],
   "source": [
    "b, sr = librosa.load('Renick_Bell.wav', sr=11025, duration=600)"
   ]
  },
  {
   "cell_type": "markdown",
   "metadata": {},
   "source": [
    "It may be good to check what you have actually loaded."
   ]
  },
  {
   "cell_type": "code",
   "execution_count": null,
   "metadata": {},
   "outputs": [],
   "source": [
    "# Khoparzi\n",
    "ipd.Audio(a, rate=sr)"
   ]
  },
  {
   "cell_type": "code",
   "execution_count": null,
   "metadata": {},
   "outputs": [],
   "source": [
    "# Renick Bell\n",
    "ipd.Audio(b, rate=sr)"
   ]
  },
  {
   "cell_type": "markdown",
   "metadata": {},
   "source": [
    "## Amplitude plots"
   ]
  },
  {
   "cell_type": "markdown",
   "metadata": {},
   "source": [
    "This is how you can plot amplitudes of both files in one plot. Will only work if you have loaded both files above."
   ]
  },
  {
   "cell_type": "code",
   "execution_count": null,
   "metadata": {},
   "outputs": [],
   "source": [
    "plt.figure(figsize=(10, 4))\n",
    "\n",
    "plt.subplot(2, 1, 1)\n",
    "librosa.display.waveplot(a, sr=sr)\n",
    "plt.title('Khoparzi')\n",
    "plt.ylabel('Amplitude')\n",
    "plt.gca().axes.get_xaxis().set_visible(False)\n",
    "\n",
    "plt.subplot(2, 1, 2)\n",
    "librosa.display.waveplot(b, sr=sr)\n",
    "plt.title('Renick Bell')\n",
    "plt.ylabel('Amplitude')\n",
    "%plt.gca().axes.get_xaxis().set_visible(False)\n",
    "\n",
    "plt.tight_layout()\n",
    "\n",
    "plt.savefig('waveforms.png', dpi=200)\n",
    "plt.show()"
   ]
  },
  {
   "cell_type": "markdown",
   "metadata": {},
   "source": [
    "## Harmonic/percussive decomposition"
   ]
  },
  {
   "cell_type": "code",
   "execution_count": null,
   "metadata": {},
   "outputs": [],
   "source": [
    "plt.figure(figsize=(10, 4))\n",
    "\n",
    "a_harm, a_perc = librosa.effects.hpss(a)\n",
    "plt.subplot(1,1,1)\n",
    "librosa.display.waveplot(a_harm, sr=sr, alpha=0.25)\n",
    "librosa.display.waveplot(a_perc, sr=sr, color='r', alpha=0.5)\n",
    "plt.title('Harmonic/percussive waveform - Khoparzi')\n",
    "plt.ylabel('Amplitude')\n",
    "\n",
    "plt.savefig('amplitudes_harmonic_percussive-khoparzi.png', dpi=200)\n",
    "\n",
    "plt.show()"
   ]
  },
  {
   "cell_type": "code",
   "execution_count": null,
   "metadata": {},
   "outputs": [],
   "source": [
    "plt.figure(figsize=(10, 4))\n",
    "\n",
    "b_harm, b_perc = librosa.effects.hpss(b)\n",
    "plt.subplot(1,1,1)\n",
    "librosa.display.waveplot(b_harm, sr=sr, alpha=0.25)\n",
    "librosa.display.waveplot(b_perc, sr=sr, color='r', alpha=0.5)\n",
    "plt.title('Harmonic/percussive waveform - Renick Bell')\n",
    "plt.ylabel('Amplitude')\n",
    "\n",
    "plt.savefig('amplitudes_harmonic_percussive-bell.png', dpi=200)\n",
    "\n",
    "plt.show()"
   ]
  },
  {
   "cell_type": "markdown",
   "metadata": {},
   "source": [
    "## Spectrogram"
   ]
  },
  {
   "cell_type": "code",
   "execution_count": null,
   "metadata": {},
   "outputs": [],
   "source": [
    "D = librosa.stft(a)  # STFT of y\n",
    "S_db = librosa.amplitude_to_db(np.abs(D), ref=np.max)\n",
    "\n",
    "fig, ax = plt.subplots(figsize=(10, 4))\n",
    "img = librosa.display.specshow(S_db, x_axis='time', y_axis='linear', ax=ax)\n",
    "ax.set(title='Spectrogram - Khoparzi')\n",
    "fig.colorbar(img, ax=ax, format=\"%+2.f dB\")\n",
    "\n",
    "plt.savefig('spectrogram_khoparzi.png', dpi=200)"
   ]
  },
  {
   "cell_type": "code",
   "execution_count": null,
   "metadata": {},
   "outputs": [],
   "source": [
    "D = librosa.stft(b)  # STFT of y\n",
    "S_db = librosa.amplitude_to_db(np.abs(D), ref=np.max)\n",
    "\n",
    "fig, ax = plt.subplots(figsize=(10, 4))\n",
    "img = librosa.display.specshow(S_db, x_axis='time', y_axis='linear', ax=ax)\n",
    "ax.set(title='Spectrogram - Renick Bell')\n",
    "fig.colorbar(img, ax=ax, format=\"%+2.f dB\")\n",
    "\n",
    "plt.savefig('spectrogram_bell.png', dpi=200)"
   ]
  },
  {
   "cell_type": "markdown",
   "metadata": {},
   "source": [
    "## Mel spectrogram"
   ]
  },
  {
   "cell_type": "code",
   "execution_count": null,
   "metadata": {},
   "outputs": [],
   "source": [
    "fig, ax = plt.subplots(figsize=(10, 4))\n",
    "M = librosa.feature.melspectrogram(y=a, sr=sr)\n",
    "M_db = librosa.power_to_db(M, ref=np.max)\n",
    "img = librosa.display.specshow(M_db, y_axis='mel', x_axis='time', ax=ax)\n",
    "ax.set(title='Mel Spectrogram - Khoparzi')\n",
    "fig.colorbar(img, ax=ax, format=\"%+2.f dB\")\n",
    "\n",
    "plt.savefig('mel-spectrogram-khoparzi.png', dpi=200)"
   ]
  },
  {
   "cell_type": "code",
   "execution_count": null,
   "metadata": {},
   "outputs": [],
   "source": [
    "fig, ax = plt.subplots(figsize=(10, 4))\n",
    "M = librosa.feature.melspectrogram(y=b, sr=sr)\n",
    "M_db = librosa.power_to_db(M, ref=np.max)\n",
    "img = librosa.display.specshow(M_db, y_axis='mel', x_axis='time', ax=ax)\n",
    "ax.set(title='Mel Spectrogram - Renick Bell')\n",
    "fig.colorbar(img, ax=ax, format=\"%+2.f dB\")\n",
    "\n",
    "plt.savefig('mel-spectrogram-bell.png', dpi=200)"
   ]
  },
  {
   "cell_type": "markdown",
   "metadata": {},
   "source": [
    "## Chromagram"
   ]
  },
  {
   "cell_type": "code",
   "execution_count": 5,
   "metadata": {},
   "outputs": [
    {
     "data": {
      "image/png": "[encoded data removed]",
      "text/plain": [
       "<Figure size 720x288 with 2 Axes>"
      ]
     },
     "metadata": {
      "needs_background": "light"
     },
     "output_type": "display_data"
    }
   ],
   "source": [
    "chroma = librosa.feature.chroma_cqt(y=a, sr=sr)\n",
    "fig, ax = plt.subplots(figsize=(10, 4))\n",
    "img = librosa.display.specshow(chroma, y_axis='chroma', x_axis='time', ax=ax)\n",
    "ax.set(title='Chromagram - Khoparzi')\n",
    "fig.colorbar(img, ax=ax)\n",
    "\n",
    "plt.savefig('chromagram-khoparzi.png', dpi=200)"
   ]
  },
  {
   "cell_type": "code",
   "execution_count": null,
   "metadata": {},
   "outputs": [],
   "source": [
    "chroma = librosa.feature.chroma_cqt(y=b, sr=sr)\n",
    "fig, ax = plt.subplots(figsize=(10, 4))\n",
    "img = librosa.display.specshow(chroma, y_axis='chroma', x_axis='time', ax=ax)\n",
    "ax.set(title='Chromagram - Renick Bell')\n",
    "fig.colorbar(img, ax=ax)\n",
    "\n",
    "plt.savefig('chromagram-bell.png', dpi=200)"
   ]
  },
  {
   "cell_type": "markdown",
   "metadata": {},
   "source": [
    "## Self-similarity matrix"
   ]
  },
  {
   "cell_type": "markdown",
   "metadata": {},
   "source": [
    "This will only work if you have already run the chroma analysis above."
   ]
  },
  {
   "cell_type": "code",
   "execution_count": 6,
   "metadata": {},
   "outputs": [
    {
     "data": {
      "image/png": "[encoded data removed]",
      "text/plain": [
       "<Figure size 432x288 with 2 Axes>"
      ]
     },
     "metadata": {
      "needs_background": "light"
     },
     "output_type": "display_data"
    }
   ],
   "source": [
    "R = librosa.segment.recurrence_matrix(chroma, mode='affinity')\n",
    "fig, ax = plt.subplots()\n",
    "img = librosa.display.specshow(R, y_axis='time', x_axis='time', ax=ax)\n",
    "ax.set(title='Recurrence / self-similarity')\n",
    "fig.colorbar(img, ax=ax)\n",
    "\n",
    "plt.savefig('self-similarity.png', dpi=200)"
   ]
  }
 ],
 "metadata": {
  "kernelspec": {
   "display_name": "Python 3",
   "language": "python",
   "name": "python3"
  },
  "language_info": {
   "codemirror_mode": {
    "name": "ipython",
    "version": 3
   },
   "file_extension": ".py",
   "mimetype": "text/x-python",
   "name": "python",
   "nbconvert_exporter": "python",
   "pygments_lexer": "ipython3",
   "version": "3.7.4"
  }
 },
 "nbformat": 4,
 "nbformat_minor": 2
}
